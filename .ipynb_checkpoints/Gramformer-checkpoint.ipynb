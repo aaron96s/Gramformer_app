{
 "cells": [
  {
   "cell_type": "code",
   "execution_count": 1,
   "metadata": {},
   "outputs": [
    {
     "name": "stdout",
     "output_type": "stream",
     "text": [
      "Looking in links: https://download.pytorch.org/whl/lts/1.8/torch_lts.html\n",
      "Requirement already satisfied: torch in /Users/aaronsotelo/opt/anaconda3/lib/python3.8/site-packages (1.9.0)\n",
      "Requirement already satisfied: torchvision in /Users/aaronsotelo/opt/anaconda3/lib/python3.8/site-packages (0.10.0)\n",
      "Requirement already satisfied: torchaudio in /Users/aaronsotelo/opt/anaconda3/lib/python3.8/site-packages (0.9.0)\n",
      "Requirement already satisfied: typing-extensions in /Users/aaronsotelo/opt/anaconda3/lib/python3.8/site-packages (from torch) (3.7.4.3)\n",
      "Requirement already satisfied: pillow>=5.3.0 in /Users/aaronsotelo/opt/anaconda3/lib/python3.8/site-packages (from torchvision) (8.0.1)\n",
      "Requirement already satisfied: numpy in /Users/aaronsotelo/opt/anaconda3/lib/python3.8/site-packages (from torchvision) (1.19.2)\n"
     ]
    }
   ],
   "source": [
    "! pip install torch torchvision torchaudio -f https://download.pytorch.org/whl/lts/1.8/torch_lts.html\n"
   ]
  },
  {
   "cell_type": "code",
   "execution_count": 2,
   "metadata": {},
   "outputs": [
    {
     "name": "stdout",
     "output_type": "stream",
     "text": [
      "Collecting git+https://github.com/PrithivirajDamodaran/Gramformer.git\n",
      "  Cloning https://github.com/PrithivirajDamodaran/Gramformer.git to /private/var/folders/gl/0_f0gmdn66nd246yycj0jjdr0000gn/T/pip-req-build-lc9vn6rf\n",
      "Requirement already satisfied (use --upgrade to upgrade): gramformer==0.1 from git+https://github.com/PrithivirajDamodaran/Gramformer.git in /Users/aaronsotelo/opt/anaconda3/lib/python3.8/site-packages\n",
      "Requirement already satisfied: transformers in /Users/aaronsotelo/opt/anaconda3/lib/python3.8/site-packages (from gramformer==0.1) (4.8.1)\n",
      "Requirement already satisfied: sentencepiece in /Users/aaronsotelo/opt/anaconda3/lib/python3.8/site-packages (from gramformer==0.1) (0.1.96)\n",
      "Requirement already satisfied: python-Levenshtein in /Users/aaronsotelo/opt/anaconda3/lib/python3.8/site-packages (from gramformer==0.1) (0.12.2)\n",
      "Requirement already satisfied: fuzzywuzzy in /Users/aaronsotelo/opt/anaconda3/lib/python3.8/site-packages (from gramformer==0.1) (0.18.0)\n",
      "Requirement already satisfied: numpy>=1.17 in /Users/aaronsotelo/opt/anaconda3/lib/python3.8/site-packages (from transformers->gramformer==0.1) (1.19.2)\n",
      "Requirement already satisfied: packaging in /Users/aaronsotelo/opt/anaconda3/lib/python3.8/site-packages (from transformers->gramformer==0.1) (20.4)\n",
      "Requirement already satisfied: huggingface-hub==0.0.12 in /Users/aaronsotelo/opt/anaconda3/lib/python3.8/site-packages (from transformers->gramformer==0.1) (0.0.12)\n",
      "Requirement already satisfied: requests in /Users/aaronsotelo/opt/anaconda3/lib/python3.8/site-packages (from transformers->gramformer==0.1) (2.24.0)\n",
      "Requirement already satisfied: tqdm>=4.27 in /Users/aaronsotelo/opt/anaconda3/lib/python3.8/site-packages (from transformers->gramformer==0.1) (4.50.2)\n",
      "Requirement already satisfied: tokenizers<0.11,>=0.10.1 in /Users/aaronsotelo/opt/anaconda3/lib/python3.8/site-packages (from transformers->gramformer==0.1) (0.10.3)\n",
      "Requirement already satisfied: pyyaml in /Users/aaronsotelo/opt/anaconda3/lib/python3.8/site-packages (from transformers->gramformer==0.1) (5.3.1)\n",
      "Requirement already satisfied: sacremoses in /Users/aaronsotelo/opt/anaconda3/lib/python3.8/site-packages (from transformers->gramformer==0.1) (0.0.45)\n",
      "Requirement already satisfied: regex!=2019.12.17 in /Users/aaronsotelo/opt/anaconda3/lib/python3.8/site-packages (from transformers->gramformer==0.1) (2020.10.15)\n",
      "Requirement already satisfied: filelock in /Users/aaronsotelo/opt/anaconda3/lib/python3.8/site-packages (from transformers->gramformer==0.1) (3.0.12)\n",
      "Requirement already satisfied: setuptools in /Users/aaronsotelo/opt/anaconda3/lib/python3.8/site-packages (from python-Levenshtein->gramformer==0.1) (50.3.1.post20201107)\n",
      "Requirement already satisfied: pyparsing>=2.0.2 in /Users/aaronsotelo/opt/anaconda3/lib/python3.8/site-packages (from packaging->transformers->gramformer==0.1) (2.4.7)\n",
      "Requirement already satisfied: six in /Users/aaronsotelo/opt/anaconda3/lib/python3.8/site-packages (from packaging->transformers->gramformer==0.1) (1.15.0)\n",
      "Requirement already satisfied: typing-extensions in /Users/aaronsotelo/opt/anaconda3/lib/python3.8/site-packages (from huggingface-hub==0.0.12->transformers->gramformer==0.1) (3.7.4.3)\n",
      "Requirement already satisfied: chardet<4,>=3.0.2 in /Users/aaronsotelo/opt/anaconda3/lib/python3.8/site-packages (from requests->transformers->gramformer==0.1) (3.0.4)\n",
      "Requirement already satisfied: urllib3!=1.25.0,!=1.25.1,<1.26,>=1.21.1 in /Users/aaronsotelo/opt/anaconda3/lib/python3.8/site-packages (from requests->transformers->gramformer==0.1) (1.25.11)\n",
      "Requirement already satisfied: certifi>=2017.4.17 in /Users/aaronsotelo/opt/anaconda3/lib/python3.8/site-packages (from requests->transformers->gramformer==0.1) (2020.6.20)\n",
      "Requirement already satisfied: idna<3,>=2.5 in /Users/aaronsotelo/opt/anaconda3/lib/python3.8/site-packages (from requests->transformers->gramformer==0.1) (2.10)\n",
      "Requirement already satisfied: joblib in /Users/aaronsotelo/opt/anaconda3/lib/python3.8/site-packages (from sacremoses->transformers->gramformer==0.1) (0.17.0)\n",
      "Requirement already satisfied: click in /Users/aaronsotelo/opt/anaconda3/lib/python3.8/site-packages (from sacremoses->transformers->gramformer==0.1) (7.1.2)\n",
      "Building wheels for collected packages: gramformer\n",
      "  Building wheel for gramformer (setup.py) ... \u001b[?25ldone\n",
      "\u001b[?25h  Created wheel for gramformer: filename=gramformer-0.1-py3-none-any.whl size=6960 sha256=e23491560876c77905ccd722964b4199cc9752d46c97dccf5ad9b160a30cb343\n",
      "  Stored in directory: /private/var/folders/gl/0_f0gmdn66nd246yycj0jjdr0000gn/T/pip-ephem-wheel-cache-q93ftbvx/wheels/fc/6b/60/eaf839540721c457b49785aa12744772957896aed0dba01189\n",
      "Successfully built gramformer\n"
     ]
    }
   ],
   "source": [
    "!pip install git+https://github.com/PrithivirajDamodaran/Gramformer.git\n"
   ]
  },
  {
   "cell_type": "code",
   "execution_count": null,
   "metadata": {},
   "outputs": [],
   "source": []
  },
  {
   "cell_type": "code",
   "execution_count": 2,
   "metadata": {},
   "outputs": [],
   "source": [
    "from gramformer import Gramformer\n",
    "import torch"
   ]
  },
  {
   "cell_type": "code",
   "execution_count": 3,
   "metadata": {},
   "outputs": [],
   "source": [
    "device = torch.device(\"cuda:0\" if torch.cuda.is_available() else \"cpu\")\n"
   ]
  },
  {
   "cell_type": "code",
   "execution_count": 4,
   "metadata": {},
   "outputs": [
    {
     "name": "stdout",
     "output_type": "stream",
     "text": [
      "[Gramformer] All models loaded..\n"
     ]
    }
   ],
   "source": [
    "gf = Gramformer(models=3, use_gpu=False) # 0 = detector, 1 = highlighter, 2 = corrector, 3 = all\n"
   ]
  },
  {
   "cell_type": "code",
   "execution_count": 9,
   "metadata": {},
   "outputs": [
    {
     "data": {
      "text/plain": [
       "['My name is Aaron.']"
      ]
     },
     "execution_count": 9,
     "metadata": {},
     "output_type": "execute_result"
    }
   ],
   "source": [
    "gf.correct('my name Aaron')"
   ]
  },
  {
   "cell_type": "code",
   "execution_count": 13,
   "metadata": {},
   "outputs": [],
   "source": [
    "sentences = [\n",
    "    'I like to plays basketballs',\n",
    "    'world is flat',\n",
    "    'red is color',\n",
    "]"
   ]
  },
  {
   "cell_type": "code",
   "execution_count": 14,
   "metadata": {},
   "outputs": [
    {
     "name": "stdout",
     "output_type": "stream",
     "text": [
      "I like to play basketball.\n",
      "The world is flat.\n",
      "The red is from\n"
     ]
    }
   ],
   "source": [
    "for sentence in sentences :\n",
    "    results =gf.correct(sentence)\n",
    "    print (results[0])"
   ]
  },
  {
   "cell_type": "code",
   "execution_count": null,
   "metadata": {},
   "outputs": [],
   "source": []
  }
 ],
 "metadata": {
  "kernelspec": {
   "display_name": "Python 3",
   "language": "python",
   "name": "python3"
  },
  "language_info": {
   "codemirror_mode": {
    "name": "ipython",
    "version": 3
   },
   "file_extension": ".py",
   "mimetype": "text/x-python",
   "name": "python",
   "nbconvert_exporter": "python",
   "pygments_lexer": "ipython3",
   "version": "3.8.5"
  }
 },
 "nbformat": 4,
 "nbformat_minor": 4
}
