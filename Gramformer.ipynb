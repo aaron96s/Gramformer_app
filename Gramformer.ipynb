{
 "cells": [
  {
   "cell_type": "code",
   "execution_count": 1,
   "metadata": {},
   "outputs": [
    {
     "name": "stdout",
     "output_type": "stream",
     "text": [
      "Looking in links: https://download.pytorch.org/whl/lts/1.8/torch_lts.html\n",
      "Requirement already satisfied: torch in /Users/aaronsotelo/opt/anaconda3/lib/python3.8/site-packages (1.9.0)\n",
      "Requirement already satisfied: torchvision in /Users/aaronsotelo/opt/anaconda3/lib/python3.8/site-packages (0.10.0)\n",
      "Requirement already satisfied: torchaudio in /Users/aaronsotelo/opt/anaconda3/lib/python3.8/site-packages (0.9.0)\n",
      "Requirement already satisfied: typing-extensions in /Users/aaronsotelo/opt/anaconda3/lib/python3.8/site-packages (from torch) (3.7.4.3)\n",
      "Requirement already satisfied: pillow>=5.3.0 in /Users/aaronsotelo/opt/anaconda3/lib/python3.8/site-packages (from torchvision) (8.0.1)\n",
      "Requirement already satisfied: numpy in /Users/aaronsotelo/opt/anaconda3/lib/python3.8/site-packages (from torchvision) (1.19.2)\n"
     ]
    }
   ],
   "source": [
    "! pip install torch torchvision torchaudio -f https://download.pytorch.org/whl/lts/1.8/torch_lts.html\n"
   ]
  },
  {
   "cell_type": "code",
   "execution_count": 2,
   "metadata": {},
   "outputs": [
    {
     "name": "stdout",
     "output_type": "stream",
     "text": [
      "Collecting git+https://github.com/PrithivirajDamodaran/Gramformer.git\n",
      "  Cloning https://github.com/PrithivirajDamodaran/Gramformer.git to /private/var/folders/gl/0_f0gmdn66nd246yycj0jjdr0000gn/T/pip-req-build-lc9vn6rf\n",
      "Requirement already satisfied (use --upgrade to upgrade): gramformer==0.1 from git+https://github.com/PrithivirajDamodaran/Gramformer.git in /Users/aaronsotelo/opt/anaconda3/lib/python3.8/site-packages\n",
      "Requirement already satisfied: transformers in /Users/aaronsotelo/opt/anaconda3/lib/python3.8/site-packages (from gramformer==0.1) (4.8.1)\n",
      "Requirement already satisfied: sentencepiece in /Users/aaronsotelo/opt/anaconda3/lib/python3.8/site-packages (from gramformer==0.1) (0.1.96)\n",
      "Requirement already satisfied: python-Levenshtein in /Users/aaronsotelo/opt/anaconda3/lib/python3.8/site-packages (from gramformer==0.1) (0.12.2)\n",
      "Requirement already satisfied: fuzzywuzzy in /Users/aaronsotelo/opt/anaconda3/lib/python3.8/site-packages (from gramformer==0.1) (0.18.0)\n",
      "Requirement already satisfied: numpy>=1.17 in /Users/aaronsotelo/opt/anaconda3/lib/python3.8/site-packages (from transformers->gramformer==0.1) (1.19.2)\n",
      "Requirement already satisfied: packaging in /Users/aaronsotelo/opt/anaconda3/lib/python3.8/site-packages (from transformers->gramformer==0.1) (20.4)\n",
      "Requirement already satisfied: huggingface-hub==0.0.12 in /Users/aaronsotelo/opt/anaconda3/lib/python3.8/site-packages (from transformers->gramformer==0.1) (0.0.12)\n",
      "Requirement already satisfied: requests in /Users/aaronsotelo/opt/anaconda3/lib/python3.8/site-packages (from transformers->gramformer==0.1) (2.24.0)\n",
      "Requirement already satisfied: tqdm>=4.27 in /Users/aaronsotelo/opt/anaconda3/lib/python3.8/site-packages (from transformers->gramformer==0.1) (4.50.2)\n",
      "Requirement already satisfied: tokenizers<0.11,>=0.10.1 in /Users/aaronsotelo/opt/anaconda3/lib/python3.8/site-packages (from transformers->gramformer==0.1) (0.10.3)\n",
      "Requirement already satisfied: pyyaml in /Users/aaronsotelo/opt/anaconda3/lib/python3.8/site-packages (from transformers->gramformer==0.1) (5.3.1)\n",
      "Requirement already satisfied: sacremoses in /Users/aaronsotelo/opt/anaconda3/lib/python3.8/site-packages (from transformers->gramformer==0.1) (0.0.45)\n",
      "Requirement already satisfied: regex!=2019.12.17 in /Users/aaronsotelo/opt/anaconda3/lib/python3.8/site-packages (from transformers->gramformer==0.1) (2020.10.15)\n",
      "Requirement already satisfied: filelock in /Users/aaronsotelo/opt/anaconda3/lib/python3.8/site-packages (from transformers->gramformer==0.1) (3.0.12)\n",
      "Requirement already satisfied: setuptools in /Users/aaronsotelo/opt/anaconda3/lib/python3.8/site-packages (from python-Levenshtein->gramformer==0.1) (50.3.1.post20201107)\n",
      "Requirement already satisfied: pyparsing>=2.0.2 in /Users/aaronsotelo/opt/anaconda3/lib/python3.8/site-packages (from packaging->transformers->gramformer==0.1) (2.4.7)\n",
      "Requirement already satisfied: six in /Users/aaronsotelo/opt/anaconda3/lib/python3.8/site-packages (from packaging->transformers->gramformer==0.1) (1.15.0)\n",
      "Requirement already satisfied: typing-extensions in /Users/aaronsotelo/opt/anaconda3/lib/python3.8/site-packages (from huggingface-hub==0.0.12->transformers->gramformer==0.1) (3.7.4.3)\n",
      "Requirement already satisfied: chardet<4,>=3.0.2 in /Users/aaronsotelo/opt/anaconda3/lib/python3.8/site-packages (from requests->transformers->gramformer==0.1) (3.0.4)\n",
      "Requirement already satisfied: urllib3!=1.25.0,!=1.25.1,<1.26,>=1.21.1 in /Users/aaronsotelo/opt/anaconda3/lib/python3.8/site-packages (from requests->transformers->gramformer==0.1) (1.25.11)\n",
      "Requirement already satisfied: certifi>=2017.4.17 in /Users/aaronsotelo/opt/anaconda3/lib/python3.8/site-packages (from requests->transformers->gramformer==0.1) (2020.6.20)\n",
      "Requirement already satisfied: idna<3,>=2.5 in /Users/aaronsotelo/opt/anaconda3/lib/python3.8/site-packages (from requests->transformers->gramformer==0.1) (2.10)\n",
      "Requirement already satisfied: joblib in /Users/aaronsotelo/opt/anaconda3/lib/python3.8/site-packages (from sacremoses->transformers->gramformer==0.1) (0.17.0)\n",
      "Requirement already satisfied: click in /Users/aaronsotelo/opt/anaconda3/lib/python3.8/site-packages (from sacremoses->transformers->gramformer==0.1) (7.1.2)\n",
      "Building wheels for collected packages: gramformer\n",
      "  Building wheel for gramformer (setup.py) ... \u001b[?25ldone\n",
      "\u001b[?25h  Created wheel for gramformer: filename=gramformer-0.1-py3-none-any.whl size=6960 sha256=e23491560876c77905ccd722964b4199cc9752d46c97dccf5ad9b160a30cb343\n",
      "  Stored in directory: /private/var/folders/gl/0_f0gmdn66nd246yycj0jjdr0000gn/T/pip-ephem-wheel-cache-q93ftbvx/wheels/fc/6b/60/eaf839540721c457b49785aa12744772957896aed0dba01189\n",
      "Successfully built gramformer\n"
     ]
    }
   ],
   "source": [
    "!pip install git+https://github.com/PrithivirajDamodaran/Gramformer.git\n"
   ]
  },
  {
   "cell_type": "code",
   "execution_count": null,
   "metadata": {},
   "outputs": [],
   "source": []
  },
  {
   "cell_type": "code",
   "execution_count": 2,
   "metadata": {},
   "outputs": [],
   "source": [
    "from gramformer import Gramformer\n",
    "import torch"
   ]
  },
  {
   "cell_type": "code",
   "execution_count": 3,
   "metadata": {},
   "outputs": [],
   "source": [
    "device = torch.device(\"cuda:0\" if torch.cuda.is_available() else \"cpu\")\n"
   ]
  },
  {
   "cell_type": "code",
   "execution_count": 4,
   "metadata": {},
   "outputs": [
    {
     "name": "stdout",
     "output_type": "stream",
     "text": [
      "[Gramformer] All models loaded..\n"
     ]
    }
   ],
   "source": [
    "gf = Gramformer(models=3, use_gpu=False) # 0 = detector, 1 = highlighter, 2 = corrector, 3 = all\n"
   ]
  },
  {
   "cell_type": "code",
   "execution_count": 9,
   "metadata": {},
   "outputs": [
    {
     "data": {
      "text/plain": [
       "['My name is Aaron.']"
      ]
     },
     "execution_count": 9,
     "metadata": {},
     "output_type": "execute_result"
    }
   ],
   "source": [
    "gf.correct('my name Aaron')"
   ]
  },
  {
   "cell_type": "code",
   "execution_count": 37,
   "metadata": {},
   "outputs": [],
   "source": [
    "sentences = [\n",
    "    'I like to plays basketballs',\n",
    "    'world is flat',\n",
    "    'red is favorite color'\n",
    "]"
   ]
  },
  {
   "cell_type": "code",
   "execution_count": 38,
   "metadata": {},
   "outputs": [
    {
     "name": "stdout",
     "output_type": "stream",
     "text": [
      "I like to play basketball\n",
      "The world is flat.\n",
      "The red is the color of a popular red.\n"
     ]
    }
   ],
   "source": [
    "for sentence in sentences :\n",
    "    results = gf.correct(sentence)\n",
    "    print (results[0])"
   ]
  },
  {
   "cell_type": "code",
   "execution_count": null,
   "metadata": {},
   "outputs": [],
   "source": []
  },
  {
   "cell_type": "code",
   "execution_count": 41,
   "metadata": {
    "collapsed": true
   },
   "outputs": [
    {
     "name": "stdout",
     "output_type": "stream",
     "text": [
      "Requirement already satisfied: gradio in /Users/aaronsotelo/opt/anaconda3/lib/python3.8/site-packages (2.0.10)\n",
      "Requirement already satisfied: pandas in /Users/aaronsotelo/opt/anaconda3/lib/python3.8/site-packages (from gradio) (1.1.3)\n",
      "Requirement already satisfied: scipy in /Users/aaronsotelo/opt/anaconda3/lib/python3.8/site-packages (from gradio) (1.5.2)\n",
      "Requirement already satisfied: matplotlib in /Users/aaronsotelo/opt/anaconda3/lib/python3.8/site-packages (from gradio) (3.3.2)\n",
      "Requirement already satisfied: ffmpy in /Users/aaronsotelo/opt/anaconda3/lib/python3.8/site-packages (from gradio) (0.3.0)\n",
      "Requirement already satisfied: Flask>=1.1.1 in /Users/aaronsotelo/opt/anaconda3/lib/python3.8/site-packages (from gradio) (1.1.2)\n",
      "Requirement already satisfied: numpy in /Users/aaronsotelo/opt/anaconda3/lib/python3.8/site-packages (from gradio) (1.19.2)\n",
      "Requirement already satisfied: pycryptodome in /Users/aaronsotelo/opt/anaconda3/lib/python3.8/site-packages (from gradio) (3.10.1)\n",
      "Requirement already satisfied: requests in /Users/aaronsotelo/opt/anaconda3/lib/python3.8/site-packages (from gradio) (2.24.0)\n",
      "Requirement already satisfied: Flask-Cors>=3.0.8 in /Users/aaronsotelo/opt/anaconda3/lib/python3.8/site-packages (from gradio) (3.0.10)\n",
      "Requirement already satisfied: analytics-python in /Users/aaronsotelo/opt/anaconda3/lib/python3.8/site-packages (from gradio) (1.3.1)\n",
      "Requirement already satisfied: markdown2 in /Users/aaronsotelo/opt/anaconda3/lib/python3.8/site-packages (from gradio) (2.4.0)\n",
      "Requirement already satisfied: flask-cachebuster in /Users/aaronsotelo/opt/anaconda3/lib/python3.8/site-packages (from gradio) (1.0.0)\n",
      "Requirement already satisfied: paramiko in /Users/aaronsotelo/opt/anaconda3/lib/python3.8/site-packages (from gradio) (2.7.2)\n",
      "Requirement already satisfied: Flask-Login in /Users/aaronsotelo/opt/anaconda3/lib/python3.8/site-packages (from gradio) (0.5.0)\n",
      "Requirement already satisfied: pillow in /Users/aaronsotelo/opt/anaconda3/lib/python3.8/site-packages (from gradio) (8.0.1)\n",
      "Requirement already satisfied: python-dateutil>=2.7.3 in /Users/aaronsotelo/opt/anaconda3/lib/python3.8/site-packages (from pandas->gradio) (2.8.1)\n",
      "Requirement already satisfied: pytz>=2017.2 in /Users/aaronsotelo/opt/anaconda3/lib/python3.8/site-packages (from pandas->gradio) (2020.1)\n",
      "Requirement already satisfied: certifi>=2020.06.20 in /Users/aaronsotelo/opt/anaconda3/lib/python3.8/site-packages (from matplotlib->gradio) (2020.6.20)\n",
      "Requirement already satisfied: cycler>=0.10 in /Users/aaronsotelo/opt/anaconda3/lib/python3.8/site-packages (from matplotlib->gradio) (0.10.0)\n",
      "Requirement already satisfied: kiwisolver>=1.0.1 in /Users/aaronsotelo/opt/anaconda3/lib/python3.8/site-packages (from matplotlib->gradio) (1.3.0)\n",
      "Requirement already satisfied: pyparsing!=2.0.4,!=2.1.2,!=2.1.6,>=2.0.3 in /Users/aaronsotelo/opt/anaconda3/lib/python3.8/site-packages (from matplotlib->gradio) (2.4.7)\n",
      "Requirement already satisfied: itsdangerous>=0.24 in /Users/aaronsotelo/opt/anaconda3/lib/python3.8/site-packages (from Flask>=1.1.1->gradio) (1.1.0)\n",
      "Requirement already satisfied: click>=5.1 in /Users/aaronsotelo/opt/anaconda3/lib/python3.8/site-packages (from Flask>=1.1.1->gradio) (7.1.2)\n",
      "Requirement already satisfied: Jinja2>=2.10.1 in /Users/aaronsotelo/opt/anaconda3/lib/python3.8/site-packages (from Flask>=1.1.1->gradio) (2.11.2)\n",
      "Requirement already satisfied: Werkzeug>=0.15 in /Users/aaronsotelo/opt/anaconda3/lib/python3.8/site-packages (from Flask>=1.1.1->gradio) (1.0.1)\n",
      "Requirement already satisfied: chardet<4,>=3.0.2 in /Users/aaronsotelo/opt/anaconda3/lib/python3.8/site-packages (from requests->gradio) (3.0.4)\n",
      "Requirement already satisfied: idna<3,>=2.5 in /Users/aaronsotelo/opt/anaconda3/lib/python3.8/site-packages (from requests->gradio) (2.10)\n",
      "Requirement already satisfied: urllib3!=1.25.0,!=1.25.1,<1.26,>=1.21.1 in /Users/aaronsotelo/opt/anaconda3/lib/python3.8/site-packages (from requests->gradio) (1.25.11)\n",
      "Requirement already satisfied: Six in /Users/aaronsotelo/opt/anaconda3/lib/python3.8/site-packages (from Flask-Cors>=3.0.8->gradio) (1.15.0)\n",
      "Requirement already satisfied: monotonic>=1.5 in /Users/aaronsotelo/opt/anaconda3/lib/python3.8/site-packages (from analytics-python->gradio) (1.6)\n",
      "Requirement already satisfied: backoff==1.10.0 in /Users/aaronsotelo/opt/anaconda3/lib/python3.8/site-packages (from analytics-python->gradio) (1.10.0)\n",
      "Requirement already satisfied: cryptography>=2.5 in /Users/aaronsotelo/opt/anaconda3/lib/python3.8/site-packages (from paramiko->gradio) (3.1.1)\n",
      "Requirement already satisfied: pynacl>=1.0.1 in /Users/aaronsotelo/opt/anaconda3/lib/python3.8/site-packages (from paramiko->gradio) (1.4.0)\n",
      "Requirement already satisfied: bcrypt>=3.1.3 in /Users/aaronsotelo/opt/anaconda3/lib/python3.8/site-packages (from paramiko->gradio) (3.2.0)\n",
      "Requirement already satisfied: MarkupSafe>=0.23 in /Users/aaronsotelo/opt/anaconda3/lib/python3.8/site-packages (from Jinja2>=2.10.1->Flask>=1.1.1->gradio) (1.1.1)\n",
      "Requirement already satisfied: cffi!=1.11.3,>=1.8 in /Users/aaronsotelo/opt/anaconda3/lib/python3.8/site-packages (from cryptography>=2.5->paramiko->gradio) (1.14.3)\n",
      "Requirement already satisfied: pycparser in /Users/aaronsotelo/opt/anaconda3/lib/python3.8/site-packages (from cffi!=1.11.3,>=1.8->cryptography>=2.5->paramiko->gradio) (2.20)\n"
     ]
    }
   ],
   "source": [
    "!pip install gradio  "
   ]
  },
  {
   "cell_type": "code",
   "execution_count": null,
   "metadata": {},
   "outputs": [],
   "source": []
  },
  {
   "cell_type": "code",
   "execution_count": 42,
   "metadata": {},
   "outputs": [],
   "source": [
    "import gradio as gr"
   ]
  },
  {
   "cell_type": "code",
   "execution_count": 43,
   "metadata": {},
   "outputs": [],
   "source": [
    "def correct(sentence):\n",
    "    res = gf.correct(sentence) #gramforer corrert\n",
    "    return res[0] #return first value in array"
   ]
  },
  {
   "cell_type": "code",
   "execution_count": 45,
   "metadata": {},
   "outputs": [
    {
     "data": {
      "text/plain": [
       "'the world is flat'"
      ]
     },
     "execution_count": 45,
     "metadata": {},
     "output_type": "execute_result"
    }
   ],
   "source": [
    "correct('world is flat')"
   ]
  },
  {
   "cell_type": "code",
   "execution_count": 47,
   "metadata": {},
   "outputs": [],
   "source": [
    "app_inputs = gr.inputs.Textbox(lines=2, placeholder=\"Enter sentence here\")"
   ]
  },
  {
   "cell_type": "code",
   "execution_count": 50,
   "metadata": {},
   "outputs": [],
   "source": [
    "interface =gr.Interface(fn=correct,\n",
    "                       inputs=app_inputs,\n",
    "                        outputs='text',\n",
    "                       title='sup, im gramformer')"
   ]
  },
  {
   "cell_type": "code",
   "execution_count": 51,
   "metadata": {},
   "outputs": [
    {
     "name": "stdout",
     "output_type": "stream",
     "text": [
      "Running locally at: http://127.0.0.1:7861/\n",
      "To create a public link, set `share=True` in `launch()`.\n",
      "Interface loading below...\n"
     ]
    },
    {
     "data": {
      "text/html": [
       "\n",
       "        <iframe\n",
       "            width=\"900\"\n",
       "            height=\"500\"\n",
       "            src=\"http://127.0.0.1:7861/\"\n",
       "            frameborder=\"0\"\n",
       "            allowfullscreen\n",
       "        ></iframe>\n",
       "        "
      ],
      "text/plain": [
       "<IPython.lib.display.IFrame at 0x7f9051a49910>"
      ]
     },
     "metadata": {},
     "output_type": "display_data"
    },
    {
     "data": {
      "text/plain": [
       "(<Flask 'gradio.networking'>, 'http://127.0.0.1:7861/', None)"
      ]
     },
     "execution_count": 51,
     "metadata": {},
     "output_type": "execute_result"
    }
   ],
   "source": [
    "interface.launch()"
   ]
  },
  {
   "cell_type": "code",
   "execution_count": null,
   "metadata": {},
   "outputs": [],
   "source": []
  }
 ],
 "metadata": {
  "kernelspec": {
   "display_name": "Python 3",
   "language": "python",
   "name": "python3"
  },
  "language_info": {
   "codemirror_mode": {
    "name": "ipython",
    "version": 3
   },
   "file_extension": ".py",
   "mimetype": "text/x-python",
   "name": "python",
   "nbconvert_exporter": "python",
   "pygments_lexer": "ipython3",
   "version": "3.8.5"
  }
 },
 "nbformat": 4,
 "nbformat_minor": 4
}
