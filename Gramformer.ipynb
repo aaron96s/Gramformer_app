{
 "cells": [
  {
   "cell_type": "code",
   "execution_count": 1,
   "metadata": {},
   "outputs": [
    {
     "name": "stdout",
     "output_type": "stream",
     "text": [
      "Looking in links: https://download.pytorch.org/whl/lts/1.8/torch_lts.html\n",
      "Collecting torch\n",
      "  Downloading torch-1.9.0-cp38-none-macosx_10_9_x86_64.whl (127.9 MB)\n",
      "\u001b[K     |████████████████████████████████| 127.9 MB 1.1 MB/s eta 0:00:01   |█▊                              | 7.0 MB 5.3 MB/s eta 0:00:23     |██████▍                         | 25.5 MB 6.3 MB/s eta 0:00:17     |██████▋                         | 26.4 MB 6.3 MB/s eta 0:00:17     |████████                        | 32.0 MB 5.7 MB/s eta 0:00:17     |██████████████                  | 55.9 MB 5.0 MB/s eta 0:00:15     |█████████████████▌              | 70.2 MB 10.2 MB/s eta 0:00:06     |████████████████████████▊       | 99.0 MB 320 kB/s eta 0:01:31\n",
      "\u001b[?25hCollecting torchvision\n",
      "  Downloading torchvision-0.10.0-cp38-cp38-macosx_10_9_x86_64.whl (13.9 MB)\n",
      "\u001b[K     |████████████████████████████████| 13.9 MB 2.3 MB/s eta 0:00:01\n",
      "\u001b[?25hCollecting torchaudio\n",
      "  Downloading torchaudio-0.9.0-cp38-cp38-macosx_10_9_x86_64.whl (1.5 MB)\n",
      "\u001b[K     |████████████████████████████████| 1.5 MB 3.0 MB/s eta 0:00:01\n",
      "\u001b[?25hRequirement already satisfied: typing-extensions in /Users/aaronsotelo/opt/anaconda3/lib/python3.8/site-packages (from torch) (3.7.4.3)\n",
      "Requirement already satisfied: pillow>=5.3.0 in /Users/aaronsotelo/opt/anaconda3/lib/python3.8/site-packages (from torchvision) (8.0.1)\n",
      "Requirement already satisfied: numpy in /Users/aaronsotelo/opt/anaconda3/lib/python3.8/site-packages (from torchvision) (1.19.2)\n",
      "Installing collected packages: torch, torchvision, torchaudio\n",
      "Successfully installed torch-1.9.0 torchaudio-0.9.0 torchvision-0.10.0\n",
      "Note: you may need to restart the kernel to use updated packages.\n"
     ]
    }
   ],
   "source": [
    "pip install torch torchvision torchaudio -f https://download.pytorch.org/whl/lts/1.8/torch_lts.html"
   ]
  },
  {
   "cell_type": "code",
   "execution_count": 1,
   "metadata": {},
   "outputs": [
    {
     "name": "stdout",
     "output_type": "stream",
     "text": [
      "Collecting git+https://github.com/PrithivirajDamodaran/Gramformer.git\n",
      "  Cloning https://github.com/PrithivirajDamodaran/Gramformer.git to /private/var/folders/gl/0_f0gmdn66nd246yycj0jjdr0000gn/T/pip-req-build-rhgd3h1_\n",
      "Collecting transformers\n",
      "  Downloading transformers-4.8.1-py3-none-any.whl (2.5 MB)\n",
      "\u001b[K     |████████████████████████████████| 2.5 MB 2.0 MB/s eta 0:00:01     |████████▊                       | 675 kB 2.0 MB/s eta 0:00:01\n",
      "\u001b[?25hCollecting sentencepiece\n",
      "  Downloading sentencepiece-0.1.96-cp38-cp38-macosx_10_6_x86_64.whl (1.1 MB)\n",
      "\u001b[K     |████████████████████████████████| 1.1 MB 1.4 MB/s eta 0:00:01\n",
      "\u001b[?25hCollecting python-Levenshtein\n",
      "  Downloading python-Levenshtein-0.12.2.tar.gz (50 kB)\n",
      "\u001b[K     |████████████████████████████████| 50 kB 3.9 MB/s eta 0:00:01\n",
      "\u001b[?25hCollecting fuzzywuzzy\n",
      "  Downloading fuzzywuzzy-0.18.0-py2.py3-none-any.whl (18 kB)\n",
      "Requirement already satisfied: filelock in /Users/aaronsotelo/opt/anaconda3/lib/python3.8/site-packages (from transformers->gramformer==0.1) (3.0.12)\n",
      "Collecting huggingface-hub==0.0.12\n",
      "  Downloading huggingface_hub-0.0.12-py3-none-any.whl (37 kB)\n",
      "Requirement already satisfied: regex!=2019.12.17 in /Users/aaronsotelo/opt/anaconda3/lib/python3.8/site-packages (from transformers->gramformer==0.1) (2020.10.15)\n",
      "Collecting sacremoses\n",
      "  Downloading sacremoses-0.0.45-py3-none-any.whl (895 kB)\n",
      "\u001b[K     |████████████████████████████████| 895 kB 3.7 MB/s eta 0:00:01\n",
      "\u001b[?25hCollecting tokenizers<0.11,>=0.10.1\n",
      "  Downloading tokenizers-0.10.3-cp38-cp38-macosx_10_11_x86_64.whl (2.2 MB)\n",
      "\u001b[K     |████████████████████████████████| 2.2 MB 941 kB/s eta 0:00:01\n",
      "\u001b[?25hRequirement already satisfied: requests in /Users/aaronsotelo/opt/anaconda3/lib/python3.8/site-packages (from transformers->gramformer==0.1) (2.24.0)\n",
      "Requirement already satisfied: numpy>=1.17 in /Users/aaronsotelo/opt/anaconda3/lib/python3.8/site-packages (from transformers->gramformer==0.1) (1.19.2)\n",
      "Requirement already satisfied: pyyaml in /Users/aaronsotelo/opt/anaconda3/lib/python3.8/site-packages (from transformers->gramformer==0.1) (5.3.1)\n",
      "Requirement already satisfied: packaging in /Users/aaronsotelo/opt/anaconda3/lib/python3.8/site-packages (from transformers->gramformer==0.1) (20.4)\n",
      "Requirement already satisfied: tqdm>=4.27 in /Users/aaronsotelo/opt/anaconda3/lib/python3.8/site-packages (from transformers->gramformer==0.1) (4.50.2)\n",
      "Requirement already satisfied: setuptools in /Users/aaronsotelo/opt/anaconda3/lib/python3.8/site-packages (from python-Levenshtein->gramformer==0.1) (50.3.1.post20201107)\n",
      "Requirement already satisfied: typing-extensions in /Users/aaronsotelo/opt/anaconda3/lib/python3.8/site-packages (from huggingface-hub==0.0.12->transformers->gramformer==0.1) (3.7.4.3)\n",
      "Requirement already satisfied: six in /Users/aaronsotelo/opt/anaconda3/lib/python3.8/site-packages (from sacremoses->transformers->gramformer==0.1) (1.15.0)\n",
      "Requirement already satisfied: joblib in /Users/aaronsotelo/opt/anaconda3/lib/python3.8/site-packages (from sacremoses->transformers->gramformer==0.1) (0.17.0)\n",
      "Requirement already satisfied: click in /Users/aaronsotelo/opt/anaconda3/lib/python3.8/site-packages (from sacremoses->transformers->gramformer==0.1) (7.1.2)\n",
      "Requirement already satisfied: urllib3!=1.25.0,!=1.25.1,<1.26,>=1.21.1 in /Users/aaronsotelo/opt/anaconda3/lib/python3.8/site-packages (from requests->transformers->gramformer==0.1) (1.25.11)\n",
      "Requirement already satisfied: certifi>=2017.4.17 in /Users/aaronsotelo/opt/anaconda3/lib/python3.8/site-packages (from requests->transformers->gramformer==0.1) (2020.6.20)\n",
      "Requirement already satisfied: idna<3,>=2.5 in /Users/aaronsotelo/opt/anaconda3/lib/python3.8/site-packages (from requests->transformers->gramformer==0.1) (2.10)\n",
      "Requirement already satisfied: chardet<4,>=3.0.2 in /Users/aaronsotelo/opt/anaconda3/lib/python3.8/site-packages (from requests->transformers->gramformer==0.1) (3.0.4)\n",
      "Requirement already satisfied: pyparsing>=2.0.2 in /Users/aaronsotelo/opt/anaconda3/lib/python3.8/site-packages (from packaging->transformers->gramformer==0.1) (2.4.7)\n",
      "Building wheels for collected packages: gramformer, python-Levenshtein\n",
      "  Building wheel for gramformer (setup.py) ... \u001b[?25ldone\n",
      "\u001b[?25h  Created wheel for gramformer: filename=gramformer-0.1-py3-none-any.whl size=6960 sha256=cbfe1407c4b6a4161fe0f2c4224d1e407540233602fa80218a09e5988366df51\n",
      "  Stored in directory: /private/var/folders/gl/0_f0gmdn66nd246yycj0jjdr0000gn/T/pip-ephem-wheel-cache-4yd3r4k8/wheels/fc/6b/60/eaf839540721c457b49785aa12744772957896aed0dba01189\n",
      "  Building wheel for python-Levenshtein (setup.py) ... \u001b[?25ldone\n",
      "\u001b[?25h  Created wheel for python-Levenshtein: filename=python_Levenshtein-0.12.2-cp38-cp38-macosx_10_9_x86_64.whl size=81458 sha256=79ac7cfbe23f3469ec9e514e3beec88e9f7e868670327701d805b01aa02d9d5e\n",
      "  Stored in directory: /Users/aaronsotelo/Library/Caches/pip/wheels/d7/0c/76/042b46eb0df65c3ccd0338f791210c55ab79d209bcc269e2c7\n",
      "Successfully built gramformer python-Levenshtein\n",
      "Installing collected packages: huggingface-hub, sacremoses, tokenizers, transformers, sentencepiece, python-Levenshtein, fuzzywuzzy, gramformer\n",
      "\u001b[31mERROR: After October 2020 you may experience errors when installing or updating packages. This is because pip will change the way that it resolves dependency conflicts.\n",
      "\n",
      "We recommend you use --use-feature=2020-resolver to test your packages with the new resolver before it becomes the default.\n",
      "\n",
      "huggingface-hub 0.0.12 requires packaging>=20.9, but you'll have packaging 20.4 which is incompatible.\u001b[0m\n",
      "Successfully installed fuzzywuzzy-0.18.0 gramformer-0.1 huggingface-hub-0.0.12 python-Levenshtein-0.12.2 sacremoses-0.0.45 sentencepiece-0.1.96 tokenizers-0.10.3 transformers-4.8.1\n"
     ]
    }
   ],
   "source": [
    "!pip install git+https://github.com/PrithivirajDamodaran/Gramformer.git"
   ]
  },
  {
   "cell_type": "code",
   "execution_count": 3,
   "metadata": {},
   "outputs": [],
   "source": [
    "from gramformer import Gramformer"
   ]
  },
  {
   "cell_type": "code",
   "execution_count": 4,
   "metadata": {},
   "outputs": [],
   "source": [
    "#INSTANTIATE Gramformer"
   ]
  },
  {
   "cell_type": "code",
   "execution_count": null,
   "metadata": {},
   "outputs": [],
   "source": [
    "gf = Gramformer(models=3, use_gpu=True) #0 = highlighter, 1 = detector, 2 = corrector, 3 = all"
   ]
  },
  {
   "cell_type": "code",
   "execution_count": null,
   "metadata": {},
   "outputs": [],
   "source": []
  }
 ],
 "metadata": {
  "kernelspec": {
   "display_name": "Python 3",
   "language": "python",
   "name": "python3"
  },
  "language_info": {
   "codemirror_mode": {
    "name": "ipython",
    "version": 3
   },
   "file_extension": ".py",
   "mimetype": "text/x-python",
   "name": "python",
   "nbconvert_exporter": "python",
   "pygments_lexer": "ipython3",
   "version": "3.8.5"
  }
 },
 "nbformat": 4,
 "nbformat_minor": 4
}
